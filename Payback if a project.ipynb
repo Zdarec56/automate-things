{
 "cells": [
  {
   "cell_type": "markdown",
   "metadata": {
    "collapsed": true
   },
   "source": [
    "The XYC company evaluates to buy an addicional machine with the following expected profits and investments\n",
    "Initial investment 200 USD\n",
    "20USD revenues on t1\n",
    "50 on t2\n",
    "70 on t3\n",
    "100 on t4\n",
    "50 on t5"
   ]
  },
  {
   "cell_type": "code",
   "execution_count": 1,
   "metadata": {
    "collapsed": true
   },
   "outputs": [],
   "source": [
    "cf=[-200,50,70,100,50]"
   ]
  },
  {
   "cell_type": "code",
   "execution_count": 4,
   "metadata": {},
   "outputs": [
    {
     "name": "stdout",
     "output_type": "stream",
     "text": [
      "the project paybak is at time  3 with a cash flow accumulated  20\n"
     ]
    }
   ],
   "source": [
    "cum_cf=0\n",
    "for i in range(len(cf)):\n",
    "    cum_cf+=cf[i]\n",
    "    if cum_cf>0:\n",
    "        print(\"the project paybak is at time \", i, \"with a cash flow accumulated \",cum_cf)\n",
    "        break\n",
    "    elif cum_cf<0 and i==len(cf)-1:\n",
    "        print (\"There is no break even for the project!\")\n",
    "        "
   ]
  },
  {
   "cell_type": "code",
   "execution_count": null,
   "metadata": {
    "collapsed": true
   },
   "outputs": [],
   "source": []
  },
  {
   "cell_type": "code",
   "execution_count": null,
   "metadata": {
    "collapsed": true
   },
   "outputs": [],
   "source": []
  }
 ],
 "metadata": {
  "kernelspec": {
   "display_name": "Python [conda root]",
   "language": "python",
   "name": "conda-root-py"
  },
  "language_info": {
   "codemirror_mode": {
    "name": "ipython",
    "version": 3
   },
   "file_extension": ".py",
   "mimetype": "text/x-python",
   "name": "python",
   "nbconvert_exporter": "python",
   "pygments_lexer": "ipython3",
   "version": "3.5.3"
  }
 },
 "nbformat": 4,
 "nbformat_minor": 2
}
