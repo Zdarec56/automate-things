{
 "cells": [
  {
   "cell_type": "code",
   "execution_count": 1,
   "metadata": {},
   "outputs": [
    {
     "name": "stdout",
     "output_type": "stream",
     "text": [
      "3 100\n"
     ]
    }
   ],
   "source": [
    "#when changing numerical variables, the changes do not go \"backwards\"\n",
    "r1=100\n",
    "r2=r1 \n",
    "r1=3\n",
    "print(r1,r2)"
   ]
  },
  {
   "cell_type": "code",
   "execution_count": null,
   "metadata": {
    "collapsed": true
   },
   "outputs": [],
   "source": [
    "#first I assign the same value to both then I change the value of one of them but not the other. \n",
    "#The other remains the same"
   ]
  },
  {
   "cell_type": "code",
   "execution_count": 3,
   "metadata": {},
   "outputs": [
    {
     "name": "stdout",
     "output_type": "stream",
     "text": [
      "[1, 2, 3, 4, 5, 12] [1, 2, 3, 4, 5, 12]\n"
     ]
    }
   ],
   "source": [
    "#with lists it is different\n",
    "r1=[1,2,3,4,5]\n",
    "r2=r1\n",
    "r1.append(12)\n",
    "print(r1,r2)"
   ]
  },
  {
   "cell_type": "code",
   "execution_count": 4,
   "metadata": {},
   "outputs": [
    {
     "name": "stdout",
     "output_type": "stream",
     "text": [
      "[1, 1, 1, 1, 1, 1, 1, 1, 1] [1, 2, 3, 4, 5]\n"
     ]
    }
   ],
   "source": [
    "#but it changes if we reassing a value (not if we change the value with a method)\n",
    "r1=[1,2,3,4,5]\n",
    "r2=r1\n",
    "r1=[1,1,1,1,1,1,1,1,1]\n",
    "print(r1,r2)"
   ]
  },
  {
   "cell_type": "code",
   "execution_count": 5,
   "metadata": {
    "collapsed": true
   },
   "outputs": [],
   "source": [
    "#how to avoid ummutability\n",
    "\n",
    "#bad method: create two identical lists\n",
    "cf1=[1, 2, 3, 4, 5]\n",
    "cf2=[1, 2, 3, 4, 5]\n",
    "\n",
    "#semi bad method\n",
    "cf1=[1, 2, 3, 4, 5]\n",
    "cf2=cf1[:]\n",
    "\n",
    "#GOOD METHOD\n",
    "cf1=[1, 2, 3, 4, 5]\n",
    "cf2=cf1.copy()"
   ]
  },
  {
   "cell_type": "code",
   "execution_count": null,
   "metadata": {
    "collapsed": true
   },
   "outputs": [],
   "source": []
  }
 ],
 "metadata": {
  "kernelspec": {
   "display_name": "Python [conda root]",
   "language": "python",
   "name": "conda-root-py"
  },
  "language_info": {
   "codemirror_mode": {
    "name": "ipython",
    "version": 3
   },
   "file_extension": ".py",
   "mimetype": "text/x-python",
   "name": "python",
   "nbconvert_exporter": "python",
   "pygments_lexer": "ipython3",
   "version": "3.5.3"
  }
 },
 "nbformat": 4,
 "nbformat_minor": 2
}
